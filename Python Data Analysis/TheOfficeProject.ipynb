{
 "cells": [
  {
   "cell_type": "markdown",
   "metadata": {
    "dc": {
     "key": "4"
    },
    "deletable": false,
    "editable": false,
    "run_control": {
     "frozen": true
    },
    "tags": [
     "context"
    ]
   },
   "source": [
    "## 1. Welcome!\n",
    "<p><img src=\"https://assets.datacamp.com/production/project_1170/img/office_cast.jpeg\" alt=\"Markdown\">.</p>\n",
    "\n",
    "<p><strong>The Office!</strong> Ce a inceput ca o serie britanica mockumentary despre cultura biroului in 2001, a dus la zece alte variante in intreaga lume, inclusiv o versiune israeliana (2010-13), o versiune hindi (2019-), si chiar o varianta franco-canadiana (2006-2007). Din toate aceste iteratii (inclusiv originalul), seria americana a fost cea mai lunga, acoperind 201 episoade in noua sezoane.</p>\n",
    "\n",
    "<p>In acest notebook, vom analiza un set de date cu episoade din The Office, si vom incerca sa intelegem cum a variat popularitatea si calitatea seriei in timp. Pentru a face acest lucru, vom folosi urmatorul set de date: <code>datasets/office_episodes.csv</code>, care a fost descarcat de pe Kaggle <a href=\"https://www.kaggle.com/nehaprabhavalkar/the-office-dataset\">aici</a>.</p>\n",
    "<p>Acest set de date contine informatii despre o varietate de caracteristici ale fiecarui episod. In detaliu, acestea sunt:\n",
    "<br></p>\n",
    "<br></p>\n",
    "<div style=\"background-color: #efebe4; color: #05192d; text-align:left; vertical-align: middle; padding: 15px 25px 15px 25px; line-height: 1.6;\">\n",
    "    <div style=\"font-size:20px\"><b>office_episodes.csv</b></div>\n",
    "<ul>\n",
    "    <li><b>episode_number:</b> Numarul episodului.</li>\n",
    "    <li><b>season:</b> Sezonul in care a aparut episodul.</li>\n",
    "    <li><b>episode_title:</b> Titlul episodului.</li>\n",
    "    <li><b>description:</b> Descrierea episodului.</li>\n",
    "    <li><b>ratings:</b>  Ratingul mediu IMDB.</li>\n",
    "    <li><b>votes:</b> Numarul de voturi.</li>\n",
    "    <li><b>viewership_mil:</b> Numarul de vizualizatori din SUA in milioane.</li>\n",
    "    <li><b>duration:</b> Durata in numar de minute.</li>\n",
    "    <li><b>release_date:</b>  Data difuzarii.</li>\n",
    "    <li><b>guest_stars:</b> Vedete invitate special in episod (daca exista).</li>\n",
    "    <li><b>director:</b> Regizorul episodului.</li>\n",
    "    <li><b>writers:</b> Scriitorii episodului.</li>\n",
    "    <li><b>has_guests:</b> True/False pentru a indica daca episodul contine vedete invitate special.</li>\n",
    "    <li><b>scaled_ratings:</b> Rating-urile scalate de la 0 (cele mai slab evaluate) la 1 (cele mai bine evaluate).</li>\n",
    "</ul>\n",
    "    </div>"
   ]
  },
  {
   "cell_type": "markdown",
   "metadata": {},
   "source": [
    "## INSTRUCTIUNI\n",
    "<p>Vizualizarea datelor este adesea o modalitate excelentă de a începe să explorati datele. În acest caiet de lucru, veți iniția acest proces prin crearea unui grafic informativ al datelor episodului. În acest sens, veți lucra cu mai multe variabile diferite, inclusiv numărul episodului, audiența, rating-ul fanilor și aparițiile oaspetilor. Aici sunt cerințele necesare pentru a trece acest proiect:<p>\n",
    "\n",
    "<p> 1. Creați un grafic scatter <code>matplotlib</code> al datelor care conține următoarele atribute:\n",
    "\n",
    "- Numărul fiecărui episod trasat de-a lungul axei x\n",
    "- Audiența fiecărui episod (în milioane) trasat de-a lungul axei y\n",
    "- Un sistem de culori care reflectă rating-urile scalate (nu rating-urile obișnuite) ale fiecărui episod, astfel:\n",
    "         - Rating-uri <0,25 sunt colorate \"red\"\n",
    "         - Rating-urile >=0,25 și <0,50 sunt colorate \"orange\"\n",
    "         - Rating-urile >=0,50 și <0,75 sunt colorate \"lightgreen\"\n",
    "         - Rating-urile >=0,75 sunt colorate \"darkgreen\"\n",
    "- Un sistem de dimensiune, astfel încât episodul care are un invitat special să aibă o dimensiune de marcator de 250 și episodul fără să fie dimensionat la 25\n",
    "- Un titlu, <code>\"Popularity, Quality, and Guest Appearances on the Office\"</code>\n",
    "- O etichetă de axă x, <code>\"Episode Number\"</code>\n",
    "- O etichetă de axă y, <code>\"Viewership (Millions)\"</code></p>\n",
    "<p>2. Furnizați numele unuia dintre actorii oaspeti (indicație, au existat mai multi!) care au fost în episodul Office cel mai urmărit. Salvati-l ca un șir în variabila top_star (de exemplu top_star = \"Will Ferrell\").</p>"
   ]
  },
  {
   "cell_type": "code",
   "execution_count": 2,
   "metadata": {
    "dc": {
     "key": "4"
    },
    "tags": [
     "sample_code"
    ]
   },
   "outputs": [
    {
     "data": {
      "text/html": [
       "<div>\n",
       "<style scoped>\n",
       "    .dataframe tbody tr th:only-of-type {\n",
       "        vertical-align: middle;\n",
       "    }\n",
       "\n",
       "    .dataframe tbody tr th {\n",
       "        vertical-align: top;\n",
       "    }\n",
       "\n",
       "    .dataframe thead th {\n",
       "        text-align: right;\n",
       "    }\n",
       "</style>\n",
       "<table border=\"1\" class=\"dataframe\">\n",
       "  <thead>\n",
       "    <tr style=\"text-align: right;\">\n",
       "      <th></th>\n",
       "      <th>episode_number</th>\n",
       "      <th>season</th>\n",
       "      <th>episode_title</th>\n",
       "      <th>description</th>\n",
       "      <th>ratings</th>\n",
       "      <th>votes</th>\n",
       "      <th>viewership_mil</th>\n",
       "      <th>duration</th>\n",
       "      <th>release_date</th>\n",
       "      <th>guest_stars</th>\n",
       "      <th>director</th>\n",
       "      <th>writers</th>\n",
       "      <th>has_guests</th>\n",
       "      <th>scaled_ratings</th>\n",
       "    </tr>\n",
       "  </thead>\n",
       "  <tbody>\n",
       "    <tr>\n",
       "      <th>0</th>\n",
       "      <td>0</td>\n",
       "      <td>1</td>\n",
       "      <td>Pilot</td>\n",
       "      <td>The premiere episode introduces the boss and s...</td>\n",
       "      <td>7.5</td>\n",
       "      <td>4936</td>\n",
       "      <td>11.2</td>\n",
       "      <td>23</td>\n",
       "      <td>2005-03-24</td>\n",
       "      <td>NaN</td>\n",
       "      <td>Ken Kwapis</td>\n",
       "      <td>Ricky Gervais |Stephen Merchant and Greg Daniels</td>\n",
       "      <td>False</td>\n",
       "      <td>0.28125</td>\n",
       "    </tr>\n",
       "    <tr>\n",
       "      <th>1</th>\n",
       "      <td>1</td>\n",
       "      <td>1</td>\n",
       "      <td>Diversity Day</td>\n",
       "      <td>Michael's off color remark puts a sensitivity ...</td>\n",
       "      <td>8.3</td>\n",
       "      <td>4801</td>\n",
       "      <td>6.0</td>\n",
       "      <td>23</td>\n",
       "      <td>2005-03-29</td>\n",
       "      <td>NaN</td>\n",
       "      <td>Ken Kwapis</td>\n",
       "      <td>B. J. Novak</td>\n",
       "      <td>False</td>\n",
       "      <td>0.53125</td>\n",
       "    </tr>\n",
       "    <tr>\n",
       "      <th>2</th>\n",
       "      <td>2</td>\n",
       "      <td>1</td>\n",
       "      <td>Health Care</td>\n",
       "      <td>Michael leaves Dwight in charge of picking the...</td>\n",
       "      <td>7.8</td>\n",
       "      <td>4024</td>\n",
       "      <td>5.8</td>\n",
       "      <td>22</td>\n",
       "      <td>2005-04-05</td>\n",
       "      <td>NaN</td>\n",
       "      <td>Ken Whittingham</td>\n",
       "      <td>Paul Lieberstein</td>\n",
       "      <td>False</td>\n",
       "      <td>0.37500</td>\n",
       "    </tr>\n",
       "    <tr>\n",
       "      <th>3</th>\n",
       "      <td>3</td>\n",
       "      <td>1</td>\n",
       "      <td>The Alliance</td>\n",
       "      <td>Just for a laugh, Jim agrees to an alliance wi...</td>\n",
       "      <td>8.1</td>\n",
       "      <td>3915</td>\n",
       "      <td>5.4</td>\n",
       "      <td>23</td>\n",
       "      <td>2005-04-12</td>\n",
       "      <td>NaN</td>\n",
       "      <td>Bryan Gordon</td>\n",
       "      <td>Michael Schur</td>\n",
       "      <td>False</td>\n",
       "      <td>0.46875</td>\n",
       "    </tr>\n",
       "    <tr>\n",
       "      <th>4</th>\n",
       "      <td>4</td>\n",
       "      <td>1</td>\n",
       "      <td>Basketball</td>\n",
       "      <td>Michael and his staff challenge the warehouse ...</td>\n",
       "      <td>8.4</td>\n",
       "      <td>4294</td>\n",
       "      <td>5.0</td>\n",
       "      <td>23</td>\n",
       "      <td>2005-04-19</td>\n",
       "      <td>NaN</td>\n",
       "      <td>Greg Daniels</td>\n",
       "      <td>Greg Daniels</td>\n",
       "      <td>False</td>\n",
       "      <td>0.56250</td>\n",
       "    </tr>\n",
       "  </tbody>\n",
       "</table>\n",
       "</div>"
      ],
      "text/plain": [
       "   episode_number  season  episode_title  \\\n",
       "0               0       1          Pilot   \n",
       "1               1       1  Diversity Day   \n",
       "2               2       1    Health Care   \n",
       "3               3       1   The Alliance   \n",
       "4               4       1     Basketball   \n",
       "\n",
       "                                         description  ratings  votes  \\\n",
       "0  The premiere episode introduces the boss and s...      7.5   4936   \n",
       "1  Michael's off color remark puts a sensitivity ...      8.3   4801   \n",
       "2  Michael leaves Dwight in charge of picking the...      7.8   4024   \n",
       "3  Just for a laugh, Jim agrees to an alliance wi...      8.1   3915   \n",
       "4  Michael and his staff challenge the warehouse ...      8.4   4294   \n",
       "\n",
       "   viewership_mil  duration release_date guest_stars         director  \\\n",
       "0            11.2        23   2005-03-24         NaN       Ken Kwapis   \n",
       "1             6.0        23   2005-03-29         NaN       Ken Kwapis   \n",
       "2             5.8        22   2005-04-05         NaN  Ken Whittingham   \n",
       "3             5.4        23   2005-04-12         NaN     Bryan Gordon   \n",
       "4             5.0        23   2005-04-19         NaN     Greg Daniels   \n",
       "\n",
       "                                            writers  has_guests  \\\n",
       "0  Ricky Gervais |Stephen Merchant and Greg Daniels       False   \n",
       "1                                       B. J. Novak       False   \n",
       "2                                  Paul Lieberstein       False   \n",
       "3                                     Michael Schur       False   \n",
       "4                                      Greg Daniels       False   \n",
       "\n",
       "   scaled_ratings  \n",
       "0         0.28125  \n",
       "1         0.53125  \n",
       "2         0.37500  \n",
       "3         0.46875  \n",
       "4         0.56250  "
      ]
     },
     "execution_count": 2,
     "metadata": {},
     "output_type": "execute_result"
    }
   ],
   "source": [
    "import pandas as pd\n",
    "import matplotlib.pyplot as plt\n",
    "\n",
    "office_episodes_df=pd.read_csv(\"office_episodes.csv\")\n",
    "office_episodes_df.head()\n",
    "\n"
   ]
  },
  {
   "cell_type": "code",
   "execution_count": 3,
   "metadata": {},
   "outputs": [
    {
     "data": {
      "text/plain": [
       "['orange',\n",
       " 'lightgreen',\n",
       " 'orange',\n",
       " 'orange',\n",
       " 'lightgreen',\n",
       " 'orange',\n",
       " 'lightgreen',\n",
       " 'orange',\n",
       " 'lightgreen',\n",
       " 'lightgreen']"
      ]
     },
     "execution_count": 3,
     "metadata": {},
     "output_type": "execute_result"
    }
   ],
   "source": [
    "colors=[]\n",
    "\n",
    "for lab,row in office_episodes_df.iterrows():\n",
    "    if row[\"scaled_ratings\"]<0.25:\n",
    "        colors.append(\"red\")\n",
    "    elif row[\"scaled_ratings\"]>=0.25 and row[\"scaled_ratings\"]<0.5:\n",
    "        colors.append(\"orange\")\n",
    "    elif row[\"scaled_ratings\"]>=0.5 and row[\"scaled_ratings\"]<0.75:\n",
    "        colors.append(\"lightgreen\")\n",
    "    else:\n",
    "        colors.append(\"darkgreen\")\n",
    "colors[:10]\n",
    "        "
   ]
  },
  {
   "cell_type": "code",
   "execution_count": 5,
   "metadata": {},
   "outputs": [
    {
     "data": {
      "text/plain": [
       "[25, 25, 25, 25, 25, 250, 25, 25, 250, 250]"
      ]
     },
     "execution_count": 5,
     "metadata": {},
     "output_type": "execute_result"
    }
   ],
   "source": [
    "size=[]\n",
    "\n",
    "for lab,row in office_episodes_df.iterrows():\n",
    "    if row[\"has_guests\"]==True:\n",
    "        size.append(250)\n",
    "    else:\n",
    "        size.append(25)\n",
    "size[:10]"
   ]
  },
  {
   "cell_type": "code",
   "execution_count": 6,
   "metadata": {},
   "outputs": [
    {
     "data": {
      "text/plain": [
       "Text(0, 0.5, 'Viewership(Millions)')"
      ]
     },
     "execution_count": 6,
     "metadata": {},
     "output_type": "execute_result"
    },
    {
     "data": {
      "image/png": "[encoded data removed]",
      "text/plain": [
       "<Figure size 640x480 with 1 Axes>"
      ]
     },
     "metadata": {},
     "output_type": "display_data"
    }
   ],
   "source": [
    "plt.scatter(office_episodes_df[\"episode_number\"],office_episodes_df[\"viewership_mil\"],c=colors,s=size)\n",
    "plt.title(\"Popularity, Quality, and Guest Appearances on the Office\")\n",
    "plt.xlabel(\"Episode number\")\n",
    "plt.ylabel(\"Viewership(Millions)\")"
   ]
  },
  {
   "cell_type": "code",
   "execution_count": 10,
   "metadata": {},
   "outputs": [
    {
     "data": {
      "text/html": [
       "<div>\n",
       "<style scoped>\n",
       "    .dataframe tbody tr th:only-of-type {\n",
       "        vertical-align: middle;\n",
       "    }\n",
       "\n",
       "    .dataframe tbody tr th {\n",
       "        vertical-align: top;\n",
       "    }\n",
       "\n",
       "    .dataframe thead th {\n",
       "        text-align: right;\n",
       "    }\n",
       "</style>\n",
       "<table border=\"1\" class=\"dataframe\">\n",
       "  <thead>\n",
       "    <tr style=\"text-align: right;\">\n",
       "      <th></th>\n",
       "      <th>guest_stars</th>\n",
       "    </tr>\n",
       "  </thead>\n",
       "  <tbody>\n",
       "    <tr>\n",
       "      <th>77</th>\n",
       "      <td>Cloris Leachman, Jack Black, Jessica Alba</td>\n",
       "    </tr>\n",
       "  </tbody>\n",
       "</table>\n",
       "</div>"
      ],
      "text/plain": [
       "                                  guest_stars\n",
       "77  Cloris Leachman, Jack Black, Jessica Alba"
      ]
     },
     "execution_count": 10,
     "metadata": {},
     "output_type": "execute_result"
    }
   ],
   "source": [
    "highest_view=max(office_episodes_df[\"viewership_mil\"])\n",
    "\n",
    "most_watch_df=office_episodes_df.loc[office_episodes_df[\"viewership_mil\"]==highest_view]\n",
    "\n",
    "top_star=most_watch_df[[\"guest_stars\"]]\n",
    "top_star"
   ]
  },
  {
   "cell_type": "code",
   "execution_count": 9,
   "metadata": {},
   "outputs": [],
   "source": [
    "top_star=\"Jessica Alba\""
   ]
  },
  {
   "cell_type": "code",
   "execution_count": null,
   "metadata": {},
   "outputs": [],
   "source": []
  }
 ],
 "metadata": {
  "kernelspec": {
   "display_name": "Python 3 (ipykernel)",
   "language": "python",
   "name": "python3"
  },
  "language_info": {
   "codemirror_mode": {
    "name": "ipython",
    "version": 3
   },
   "file_extension": ".py",
   "mimetype": "text/x-python",
   "name": "python",
   "nbconvert_exporter": "python",
   "pygments_lexer": "ipython3",
   "version": "3.11.3"
  }
 },
 "nbformat": 4,
 "nbformat_minor": 2
}
